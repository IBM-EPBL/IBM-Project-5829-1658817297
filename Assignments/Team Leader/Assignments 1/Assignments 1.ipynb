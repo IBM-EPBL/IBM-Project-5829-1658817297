{
  "metadata": {
    "kernelspec": {
      "name": "python",
      "display_name": "Python (Pyodide)",
      "language": "python"
    },
    "language_info": {
      "codemirror_mode": {
        "name": "python",
        "version": 3
      },
      "file_extension": ".py",
      "mimetype": "text/x-python",
      "name": "python",
      "nbconvert_exporter": "python",
      "pygments_lexer": "ipython3",
      "version": "3.8"
    }
  },
  "nbformat_minor": 5,
  "nbformat": 4,
  "cells": [
    {
      "cell_type": "code",
      "source": "<!DOCTYPE html>\n<html>\n  <head>\n    <title>User Registration Form</title>\n    <meta charset=\"utf-8\" />\n    <meta name=\"viewport\" content=\"width=device-width, initial-scale=1\" />\n    <link rel=\"stylesheet\" href=\"styles.css\" />\n  </head>\n  <body>\n    <div id=\"root\">\n      <div class=\"form-container\">\n        <div class=\"form__header\">User Registration Form</div>\n        <div class=\"form__fields\">\n          <div class=\"form-field\">\n            <p class=\"field__label\">Name</p>\n            <input type=\"text\" class=\"field__box\" placeholder=\"Name\"/>\n          </div>\n          <div class=\"form-field\">\n            <p class=\"field__label\">Email</p>\n            <input type=\"text\" class=\"field__box\" placeholder=\"Email\"/>\n          </div>\n          <div class=\"form-field\">\n            <p class=\"field__label\">Mobile</p>\n            <input type=\"text\" class=\"field__box\" placeholder=\"Mobile\"/>\n          </div>\n          <div class=\"form-field\">\n            <p class=\"field__label\">City</p>\n            <input type=\"text\" class=\"field__box\" placeholder=\"City\"/>\n          </div>\n          <div class=\"form-field\">\n            <p class=\"field__label\">State</p>\n            <input type=\"text\" class=\"field__box\" placeholder=\"State\"/>\n          </div>\n          <div class=\"form-field\">\n            <p class=\"field__label\">Country</p>\n            <input type=\"text\" class=\"field__box\" placeholder=\"Country\"/>\n          </div>\n        </div>\n        <div class=\"form__buttons\">\n                    <br>\n\t\t\t<button class=\"btn--primary\">Submit</button>\n\t\t</div>\n      </div>\n    </div>\n  </body>\n</html>",
      "metadata": {},
      "execution_count": null,
      "outputs": [],
      "id": "b48c4c84-cceb-4c1a-b435-e56aae1ceff5"
    },
    {
      "cell_type": "code",
      "source": "from flask import Flask\napp = Flask(__name__)\n\n@app.route('/')\ndef index():\n    return \"<h1>Hello, World!</h1>\"\n\n@app.route('/user/<name>')\ndef user(name):\n\treturn '<h1>Hello, {0}!</h1>'.format(name)\n\nif __name__ == '__main__':\n    app.run(debug=True)",
      "metadata": {},
      "execution_count": null,
      "outputs": [],
      "id": "79e50404-238a-4bfe-b78d-de3a377f2952"
    },
    {
      "cell_type": "code",
      "source": "from flask import Flask, render_template\napp = Flask(__name__)\n\n@app.route('/')\ndef index():\n    return render_template('index.html')\n\n@app.route('/user/<name>')\ndef user(name):\n    return render_template('user.html', name=name)\n\nif __name__ == '__main__':\n    app.run(debug=True)",
      "metadata": {},
      "execution_count": null,
      "outputs": [],
      "id": "82f08cff-01ff-4fa6-b486-1d66b1e46027"
    },
    {
      "cell_type": "code",
      "source": "import os\nfrom flask import Flask, render_template, request\nfrom flask.ext.pymongo import PyMongo\n\napp = Flask(__name__)\napp.config['MONGO_URI'] = os.environ['MONGO_URI']\nmongo = PyMongo(app)\n\n@app.route('/', methods=['GET', 'POST'])\ndef index():\n    name = None\n    new = False\n    if request.method == 'POST' and 'name' in request.form:\n        name = request.form['name']\n        if mongo.db.names.find_one({'name': name}) is None:\n            # this is a new name, add it to the database\n            mongo.db.names.insert({'name': name})\n            new = True\n    return render_template('index.html', name=name, new=new)\n\nif __name__ == '__main__':\n    app.run(debug=True)",
      "metadata": {},
      "execution_count": null,
      "outputs": [],
      "id": "bb16fbcf-729b-4801-8b5c-a9d11ce5fedc"
    },
    {
      "cell_type": "code",
      "source": "from flask import Flask, render_template, request\napp = Flask(__name__)\n\n@app.route('/', methods=['GET', 'POST'])\ndef index():\n    name = None\n    if request.method == 'POST' and 'name' in request.form:\n        name = request.form['name']\n    return render_template('index.html', name=name)\n\nif __name__ == '__main__':\n    app.run(debug=True)",
      "metadata": {},
      "execution_count": null,
      "outputs": [],
      "id": "0fccfbc2-d0f4-4f18-9fd0-d4f3871c3f71"
    }
  ]
}